{
  "nbformat": 4,
  "nbformat_minor": 0,
  "metadata": {
    "colab": {
      "name": "Practical_Work_PCA_Step_By_Step-checkpoint.ipynb",
      "provenance": []
    },
    "kernelspec": {
      "display_name": "Python 3",
      "language": "python",
      "name": "python3"
    },
    "language_info": {
      "codemirror_mode": {
        "name": "ipython",
        "version": 3
      },
      "file_extension": ".py",
      "mimetype": "text/x-python",
      "name": "python",
      "nbconvert_exporter": "python",
      "pygments_lexer": "ipython3",
      "version": "3.7.6"
    }
  },
  "cells": [
    {
      "cell_type": "markdown",
      "metadata": {
        "id": "R5K3gtKEBHrg"
      },
      "source": [
        "# PCA Using Eigen Decomposition"
      ]
    },
    {
      "cell_type": "markdown",
      "metadata": {
        "id": "fzMYPIDXBHrp"
      },
      "source": [
        "### Import the required libraries"
      ]
    },
    {
      "cell_type": "code",
      "metadata": {
        "id": "JTCX54OyBHrr"
      },
      "source": [
        "import numpy as np"
      ],
      "execution_count": null,
      "outputs": []
    },
    {
      "cell_type": "markdown",
      "metadata": {
        "id": "pEfpfGfoBHrr"
      },
      "source": [
        "### Create a matrix contains the following data"
      ]
    },
    {
      "cell_type": "markdown",
      "metadata": {
        "id": "XL2dCRE0BHrs"
      },
      "source": [
        "![image.png](attachment:image.png)"
      ]
    },
    {
      "cell_type": "code",
      "metadata": {
        "id": "fP8UdnqiBHru",
        "outputId": "27f6547a-cba3-4130-bc39-52f1a0c41e91"
      },
      "source": [
        "matrix = np.array([[1,2,3,4],\n",
        "                   [5,5,6,7],\n",
        "                   [1,4,2,3],\n",
        "                   [5,3,2,1],\n",
        "                   [8,1,2,2]])\n",
        "matrix"
      ],
      "execution_count": null,
      "outputs": [
        {
          "output_type": "execute_result",
          "data": {
            "text/plain": [
              "array([[1, 2, 3, 4],\n",
              "       [5, 5, 6, 7],\n",
              "       [1, 4, 2, 3],\n",
              "       [5, 3, 2, 1],\n",
              "       [8, 1, 2, 2]])"
            ]
          },
          "metadata": {
            "tags": []
          },
          "execution_count": 408
        }
      ]
    },
    {
      "cell_type": "markdown",
      "metadata": {
        "id": "qXDupeCCBHrv"
      },
      "source": [
        "## Step 1: Standardize the dataset."
      ]
    },
    {
      "cell_type": "markdown",
      "metadata": {
        "id": "M-U3zRhdBHrw"
      },
      "source": [
        "### Define a function to calculate data mean.\n",
        "#### Hint: do not use np.mean() built in function. However, you can use np.sum()."
      ]
    },
    {
      "cell_type": "code",
      "metadata": {
        "id": "2P9jRNNFBHrx"
      },
      "source": [
        "def get_mean(matrix):\n",
        "    list_mean = []\n",
        "    for col in range(matrix.shape[1]):\n",
        "         list_mean.append(matrix[:,col].sum()/matrix.shape[0])\n",
        "    return np.array(list_mean)"
      ],
      "execution_count": null,
      "outputs": []
    },
    {
      "cell_type": "markdown",
      "metadata": {
        "id": "ngllIb_nBHrx"
      },
      "source": [
        "### Check your function on the first and second features"
      ]
    },
    {
      "cell_type": "code",
      "metadata": {
        "id": "hA189CN1BHry",
        "outputId": "e2ad6009-136f-467a-ecce-e0dacd6f5a77"
      },
      "source": [
        "mean_vec = get_mean(matrix)\n",
        "mean_vec"
      ],
      "execution_count": null,
      "outputs": [
        {
          "output_type": "execute_result",
          "data": {
            "text/plain": [
              "array([4. , 3. , 3. , 3.4])"
            ]
          },
          "metadata": {
            "tags": []
          },
          "execution_count": 410
        }
      ]
    },
    {
      "cell_type": "code",
      "metadata": {
        "id": "aoqDZCtrG0qn",
        "outputId": "9d5e6d86-7551-4e4f-9132-9a59a1e45e4b"
      },
      "source": [
        "mean_vec[0:2]"
      ],
      "execution_count": null,
      "outputs": [
        {
          "output_type": "execute_result",
          "data": {
            "text/plain": [
              "array([4., 3.])"
            ]
          },
          "metadata": {
            "tags": []
          },
          "execution_count": 411
        }
      ]
    },
    {
      "cell_type": "code",
      "metadata": {
        "id": "Ei2asRLtBHr1",
        "outputId": "af23ad19-b4d2-4d33-d9fe-5f3418b46cb1"
      },
      "source": [
        "matrix_mean = matrix - mean_vec\n",
        "matrix_mean"
      ],
      "execution_count": null,
      "outputs": [
        {
          "output_type": "execute_result",
          "data": {
            "text/plain": [
              "array([[-3. , -1. ,  0. ,  0.6],\n",
              "       [ 1. ,  2. ,  3. ,  3.6],\n",
              "       [-3. ,  1. , -1. , -0.4],\n",
              "       [ 1. ,  0. , -1. , -2.4],\n",
              "       [ 4. , -2. , -1. , -1.4]])"
            ]
          },
          "metadata": {
            "tags": []
          },
          "execution_count": 412
        }
      ]
    },
    {
      "cell_type": "markdown",
      "metadata": {
        "id": "TXrwKLUVBHr1"
      },
      "source": [
        "### Define a function to calculate standard deviation of the data.\n",
        "#### Hint: do not use np.std() built in function. However, you can use np.sum()."
      ]
    },
    {
      "cell_type": "markdown",
      "metadata": {
        "id": "HBH_BwFYBHr2"
      },
      "source": [
        "![image-3.png](attachment:image-3.png)"
      ]
    },
    {
      "cell_type": "code",
      "metadata": {
        "id": "8bkN3rGJBHr2"
      },
      "source": [
        "def get_std(matrix, mean_vec):\n",
        "    res_list = []\n",
        "    for col in range(matrix.shape[1]):\n",
        "        vec_mean = ((matrix[:,col] - mean_vec[col])**2).sum()\n",
        "        vec_mean_over_n = vec_mean/(matrix.shape[0]-1)\n",
        "        res_list.append(np.sqrt(vec_mean_over_n))\n",
        "        \n",
        "    return np.array(res_list)"
      ],
      "execution_count": null,
      "outputs": []
    },
    {
      "cell_type": "markdown",
      "metadata": {
        "id": "p0fF1N9mBHr2"
      },
      "source": [
        "### Check your function on the given features"
      ]
    },
    {
      "cell_type": "code",
      "metadata": {
        "id": "KZ-_cvQrBHr2",
        "outputId": "1413db3b-f32e-40e9-8cd8-e88bedcb68c0"
      },
      "source": [
        "get_std(matrix, mean_vec)"
      ],
      "execution_count": null,
      "outputs": [
        {
          "output_type": "execute_result",
          "data": {
            "text/plain": [
              "array([3.        , 1.58113883, 1.73205081, 2.30217289])"
            ]
          },
          "metadata": {
            "tags": []
          },
          "execution_count": 414
        }
      ]
    },
    {
      "cell_type": "code",
      "metadata": {
        "id": "_Y_dOsl5BHr3"
      },
      "source": [
        "std_vec = get_std(matrix, mean_vec)"
      ],
      "execution_count": null,
      "outputs": []
    },
    {
      "cell_type": "markdown",
      "metadata": {
        "id": "s0qCgl51BHr3"
      },
      "source": [
        "![image.png](attachment:image.png)"
      ]
    },
    {
      "cell_type": "markdown",
      "metadata": {
        "id": "5YLKZmmLBHr4"
      },
      "source": [
        "### Define a function to standardize the dataset."
      ]
    },
    {
      "cell_type": "code",
      "metadata": {
        "id": "EbAou1I_BHr4"
      },
      "source": [
        "def standardize_data(matrix):\n",
        "    mean_vec = get_mean(matrix)\n",
        "    std_vec = get_std(matrix, mean_vec)\n",
        "    new_matrix = []\n",
        "    for col in range(matrix.shape[1]):\n",
        "        new_sample = [((val-mean_vec[col])/std_vec[col]) for val in matrix[:,col]]\n",
        "        new_matrix.append(new_sample)\n",
        "        \n",
        "    return np.array(new_matrix).T"
      ],
      "execution_count": null,
      "outputs": []
    },
    {
      "cell_type": "markdown",
      "metadata": {
        "id": "zjiAXKb3BHr5"
      },
      "source": [
        "### Use your function to standardize the data"
      ]
    },
    {
      "cell_type": "code",
      "metadata": {
        "id": "R6MpTW81BHr5"
      },
      "source": [
        "standardize_matrix = standardize_data(matrix)"
      ],
      "execution_count": null,
      "outputs": []
    },
    {
      "cell_type": "code",
      "metadata": {
        "id": "E5O-AASOBHr5",
        "outputId": "83f4a17f-8881-4b5e-a65e-bc0a7003bb70"
      },
      "source": [
        "standardize_matrix"
      ],
      "execution_count": null,
      "outputs": [
        {
          "output_type": "execute_result",
          "data": {
            "text/plain": [
              "array([[-1.        , -0.63245553,  0.        ,  0.26062335],\n",
              "       [ 0.33333333,  1.26491106,  1.73205081,  1.56374007],\n",
              "       [-1.        ,  0.63245553, -0.57735027, -0.1737489 ],\n",
              "       [ 0.33333333,  0.        , -0.57735027, -1.04249338],\n",
              "       [ 1.33333333, -1.26491106, -0.57735027, -0.60812114]])"
            ]
          },
          "metadata": {
            "tags": []
          },
          "execution_count": 418
        }
      ]
    },
    {
      "cell_type": "markdown",
      "metadata": {
        "id": "qcxcx6m9BHr6"
      },
      "source": [
        "![image.png](attachment:image.png)"
      ]
    },
    {
      "cell_type": "markdown",
      "metadata": {
        "id": "G_XQoM_lBHr7"
      },
      "source": [
        "## Step 2: Calculate the covariance matrix for the features in the dataset."
      ]
    },
    {
      "cell_type": "markdown",
      "metadata": {
        "id": "HrBP32P3BHr7"
      },
      "source": [
        "### Calculate covariance matrix using the formula: ![image-2.png](attachment:image-2.png)\n",
        "##### This formula is used because the data has <b>zero</b> mean and <b>1</b> standard deviation.\n",
        "<b>Note:</b> with respect to this formula our matrix is already transposed <b>(5*4)</b>"
      ]
    },
    {
      "cell_type": "code",
      "metadata": {
        "id": "qeVabBfEBHr8"
      },
      "source": [
        "def get_covariance_matrix(matrix_stnd):\n",
        "    return (matrix_stnd.T@matrix_stnd)/(matrix_stnd.shape[0])"
      ],
      "execution_count": null,
      "outputs": []
    },
    {
      "cell_type": "code",
      "metadata": {
        "id": "yz_6dTCLG0q_",
        "outputId": "0793ab2d-8705-461b-d6b4-a22b1801d0c7"
      },
      "source": [
        "cov_matrix = get_covariance_matrix(standardize_matrix)\n",
        "cov_matrix"
      ],
      "execution_count": null,
      "outputs": [
        {
          "output_type": "execute_result",
          "data": {
            "text/plain": [
              "array([[ 0.8       , -0.25298221,  0.03849002, -0.14479075],\n",
              "       [-0.25298221,  0.8       ,  0.51120772,  0.49449803],\n",
              "       [ 0.03849002,  0.51120772,  0.8       ,  0.75235479],\n",
              "       [-0.14479075,  0.49449803,  0.75235479,  0.8       ]])"
            ]
          },
          "metadata": {
            "tags": []
          },
          "execution_count": 420
        }
      ]
    },
    {
      "cell_type": "markdown",
      "metadata": {
        "id": "PStIdnnDBHr8"
      },
      "source": [
        "![image.png](attachment:image.png)"
      ]
    },
    {
      "cell_type": "markdown",
      "metadata": {
        "id": "joc9pKM6BHr9"
      },
      "source": [
        "## Step 3: Calculate the eigenvalues and eigenvectors for the covariance matrix.\n",
        "## Step 4: Sort eigenvalues and their corresponding eigenvectors."
      ]
    },
    {
      "cell_type": "markdown",
      "metadata": {
        "id": "cWYni-rpBHr9"
      },
      "source": [
        "### Find eigen values and the corresponding eigen vectors for the covariance matrix\n",
        "#### You can use NumPy built in function for this purpose "
      ]
    },
    {
      "cell_type": "code",
      "metadata": {
        "id": "EYrDKBSYBHr9"
      },
      "source": [
        "eigen_value, eigen_vec = np.linalg.eig(cov_matrix)"
      ],
      "execution_count": null,
      "outputs": []
    },
    {
      "cell_type": "code",
      "metadata": {
        "id": "yS3efZFqBHr-"
      },
      "source": [
        "def get_sorted_eigen(cov_matrix):\n",
        "    eigen_value, eigen_vec = np.linalg.eig(cov_matrix)\n",
        "    sorted_eigen_index = eigen_value.argsort()[::-1]\n",
        "    sorted_eigen_value = []\n",
        "    sorted_eigen_vec = []\n",
        "    for index in sorted_eigen_index:\n",
        "        sorted_eigen_value.append(eigen_value[index])\n",
        "        sorted_eigen_vec.append(eigen_vec[index])\n",
        "        \n",
        "    return sorted_eigen_value, np.array(sorted_eigen_vec)"
      ],
      "execution_count": null,
      "outputs": []
    },
    {
      "cell_type": "code",
      "metadata": {
        "id": "Z7yQXEvFBHr-",
        "outputId": "397fd49f-e220-432d-9d07-c6986168ce04"
      },
      "source": [
        "eigen_value, eigen_vec = get_sorted_eigen(cov_matrix)\n",
        "print(eigen_value)\n",
        "print(eigen_vec)"
      ],
      "execution_count": null,
      "outputs": [
        {
          "output_type": "stream",
          "text": [
            "[2.012634592647956, 0.8522308028065152, 0.3151096350419572, 0.020024969503572694]\n",
            "[[ 0.16195986 -0.91705888 -0.30707099  0.19616173]\n",
            " [-0.52404813  0.20692161 -0.81731886  0.12061043]\n",
            " [-0.58589647 -0.3205394   0.1882497  -0.72009851]\n",
            " [-0.59654663 -0.11593512  0.44973251  0.65454704]]\n"
          ],
          "name": "stdout"
        }
      ]
    },
    {
      "cell_type": "markdown",
      "metadata": {
        "id": "1qwPZEVeBHr_"
      },
      "source": [
        "![image.png](attachment:image.png)"
      ]
    },
    {
      "cell_type": "markdown",
      "metadata": {
        "id": "YE4S9nB3BHsA"
      },
      "source": [
        "## Step 5: Pick k eigenvalues and form a matrix of eigenvectors."
      ]
    },
    {
      "cell_type": "markdown",
      "metadata": {
        "id": "K-7s2InRBHsA"
      },
      "source": [
        "### Select the first eigen vectors"
      ]
    },
    {
      "cell_type": "code",
      "metadata": {
        "id": "ca5Kq_BhBHsA",
        "outputId": "03f1200d-9cf4-489e-a390-4c0158e24a48"
      },
      "source": [
        "eigen_vec[:,0]"
      ],
      "execution_count": null,
      "outputs": [
        {
          "output_type": "execute_result",
          "data": {
            "text/plain": [
              "array([ 0.16195986, -0.52404813, -0.58589647, -0.59654663])"
            ]
          },
          "metadata": {
            "tags": []
          },
          "execution_count": 424
        }
      ]
    },
    {
      "cell_type": "markdown",
      "metadata": {
        "id": "yaVrstnUBHsB"
      },
      "source": [
        "![image.png](attachment:image.png)"
      ]
    },
    {
      "cell_type": "markdown",
      "metadata": {
        "id": "fW4yplWQBHsB"
      },
      "source": [
        "## Step 6:Transform the original matrix."
      ]
    },
    {
      "cell_type": "code",
      "metadata": {
        "id": "qil0S-TSBHsB"
      },
      "source": [
        "def get_pca_features(standardize_matrix, eigen_vec, n_comp):\n",
        "    return standardize_matrix @ eigen_vec[0:n_comp].T"
      ],
      "execution_count": null,
      "outputs": []
    },
    {
      "cell_type": "markdown",
      "metadata": {
        "id": "B-U3FmNlBHsB"
      },
      "source": [
        "![image.png](attachment:image.png)"
      ]
    },
    {
      "cell_type": "markdown",
      "metadata": {
        "id": "wnEOsi38BHsC"
      },
      "source": [
        "## Congratulations \n",
        "![image.png](attachment:image.png)"
      ]
    },
    {
      "cell_type": "code",
      "metadata": {
        "id": "_2Pb-83zBHsC",
        "outputId": "8bc0801e-b2e2-4c42-d1a2-9cf5f0ca1257"
      },
      "source": [
        "n_cmpt = 2\n",
        "\n",
        "new_features = get_pca_features(standardize_matrix, eigen_vec, n_cmpt)\n",
        "new_features"
      ],
      "execution_count": null,
      "outputs": [
        {
          "output_type": "execute_result",
          "data": {
            "text/plain": [
              "array([[ 0.46916343,  0.42461331],\n",
              "       [-1.33112789, -1.13997971],\n",
              "       [-0.59875419,  1.10584019],\n",
              "       [ 0.02677683,  0.17146098],\n",
              "       [ 1.43394182, -0.56193477]])"
            ]
          },
          "metadata": {
            "tags": []
          },
          "execution_count": 426
        }
      ]
    },
    {
      "cell_type": "code",
      "metadata": {
        "id": "rUNEq9koG0rP",
        "outputId": "9514c314-d79c-41ab-eb6d-944f523331f8"
      },
      "source": [
        "np.set_printoptions(suppress=True)\n",
        "new_features"
      ],
      "execution_count": null,
      "outputs": [
        {
          "output_type": "execute_result",
          "data": {
            "text/plain": [
              "array([[ 0.46916343,  0.42461331],\n",
              "       [-1.33112789, -1.13997971],\n",
              "       [-0.59875419,  1.10584019],\n",
              "       [ 0.02677683,  0.17146098],\n",
              "       [ 1.43394182, -0.56193477]])"
            ]
          },
          "metadata": {
            "tags": []
          },
          "execution_count": 427
        }
      ]
    },
    {
      "cell_type": "raw",
      "metadata": {
        "id": "WZnMuXHOG0rQ"
      },
      "source": [
        ""
      ]
    },
    {
      "cell_type": "code",
      "metadata": {
        "id": "xOWgph4gG0rQ"
      },
      "source": [
        ""
      ],
      "execution_count": null,
      "outputs": []
    }
  ]
}