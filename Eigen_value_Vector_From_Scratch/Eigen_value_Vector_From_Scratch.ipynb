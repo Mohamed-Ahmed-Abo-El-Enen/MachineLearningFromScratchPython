{
  "nbformat": 4,
  "nbformat_minor": 0,
  "metadata": {
    "kernelspec": {
      "display_name": "Python 3",
      "language": "python",
      "name": "python3"
    },
    "language_info": {
      "codemirror_mode": {
        "name": "ipython",
        "version": 3
      },
      "file_extension": ".py",
      "mimetype": "text/x-python",
      "name": "python",
      "nbconvert_exporter": "python",
      "pygments_lexer": "ipython3",
      "version": "3.7.6"
    },
    "colab": {
      "name": "LAFDS_L4 HW-checkpoint.ipynb",
      "provenance": []
    }
  },
  "cells": [
    {
      "cell_type": "markdown",
      "metadata": {
        "id": "vZ5hzbc4UFAV"
      },
      "source": [
        "### Student Name: Mohamed Ahmed Mohamed Abo El-Enen"
      ]
    },
    {
      "cell_type": "markdown",
      "metadata": {
        "id": "W-zr65w6UFAd"
      },
      "source": [
        "### Q1"
      ]
    },
    {
      "cell_type": "code",
      "metadata": {
        "pycharm": {
          "is_executing": true
        },
        "id": "COHb6GstUFAh"
      },
      "source": [
        "import numpy as np"
      ],
      "execution_count": null,
      "outputs": []
    },
    {
      "cell_type": "code",
      "metadata": {
        "pycharm": {
          "is_executing": true
        },
        "id": "YkwkqxHzUFAk"
      },
      "source": [
        "M = np.array([[0,1],[-2,-3]])"
      ],
      "execution_count": null,
      "outputs": []
    },
    {
      "cell_type": "code",
      "metadata": {
        "pycharm": {
          "is_executing": true
        },
        "id": "5qsK7g8QUFAl",
        "outputId": "82e43b55-dbce-4d24-d96c-229290b6e2b4"
      },
      "source": [
        "np.linalg.eig(M)"
      ],
      "execution_count": null,
      "outputs": [
        {
          "output_type": "execute_result",
          "data": {
            "text/plain": [
              "(array([-1., -2.]),\n",
              " array([[ 0.70710678, -0.4472136 ],\n",
              "        [-0.70710678,  0.89442719]]))"
            ]
          },
          "metadata": {
            "tags": []
          },
          "execution_count": 3
        }
      ]
    },
    {
      "cell_type": "markdown",
      "metadata": {
        "id": "TT4YUkb3UFAn"
      },
      "source": [
        "### Q2"
      ]
    },
    {
      "cell_type": "code",
      "metadata": {
        "pycharm": {
          "is_executing": true
        },
        "id": "vx0nkeJPUFAo"
      },
      "source": [
        "import sympy as sym"
      ],
      "execution_count": null,
      "outputs": []
    },
    {
      "cell_type": "code",
      "metadata": {
        "pycharm": {
          "is_executing": true
        },
        "id": "Cn6KoEnHUFAp"
      },
      "source": [
        "lambda_symbol = sym.Symbol('lambda')"
      ],
      "execution_count": null,
      "outputs": []
    },
    {
      "cell_type": "code",
      "metadata": {
        "pycharm": {
          "is_executing": true
        },
        "id": "0goHRUalUFAq"
      },
      "source": [
        "def get_matrix_dim(matrix):\n",
        "    return matrix.shape"
      ],
      "execution_count": null,
      "outputs": []
    },
    {
      "cell_type": "code",
      "metadata": {
        "pycharm": {
          "is_executing": true
        },
        "id": "z-pahuBIUFAq"
      },
      "source": [
        "def define_identity_matrix(row, col):\n",
        "    idt_matrix = np.zeros((row,col))\n",
        "    for r in range(row):\n",
        "        for c in range(col):\n",
        "            if r == c:\n",
        "                idt_matrix[r,c]=1\n",
        "    \n",
        "    #np.eye(row)\n",
        "    return idt_matrix"
      ],
      "execution_count": null,
      "outputs": []
    },
    {
      "cell_type": "code",
      "metadata": {
        "pycharm": {
          "is_executing": true
        },
        "id": "scTKdB6LUFAs"
      },
      "source": [
        "def define_lambda_identity_matrix(idt_matrix):\n",
        "    idt_matrix = lambda_symbol * idt_matrix       \n",
        "    return idt_matrix"
      ],
      "execution_count": null,
      "outputs": []
    },
    {
      "cell_type": "code",
      "metadata": {
        "pycharm": {
          "is_executing": true
        },
        "id": "Hh057rZqUFAt"
      },
      "source": [
        "def subtract_lambda_from_matrix(matrix, idt_matrix):\n",
        "    matrix = matrix - idt_matrix       \n",
        "    return matrix"
      ],
      "execution_count": null,
      "outputs": []
    },
    {
      "cell_type": "code",
      "metadata": {
        "pycharm": {
          "is_executing": true
        },
        "id": "lP_Z5piRUFAu"
      },
      "source": [
        "def get_eigen_vector(eigen_values, lambda_matrix, dim):\n",
        "    res = []\n",
        "    for value in list(eigen_values):\n",
        "        tmp = sym.Matrix(lambda_matrix).subs({lambda_symbol:value})\n",
        "        zeros = np.zeros((dim, 1))        \n",
        "        res.append(tmp.rref()[0])\n",
        "    return res"
      ],
      "execution_count": null,
      "outputs": []
    },
    {
      "cell_type": "code",
      "metadata": {
        "pycharm": {
          "is_executing": true
        },
        "id": "aVc4rpsMUFAv"
      },
      "source": [
        "def vector_assumtion(eigen_vectors, dim):\n",
        "    list_x = []\n",
        "    for i in range(1,dim+1):\n",
        "        list_x.append(sym.Symbol(\"x\"+str(i)))\n",
        "    return np.array(list_x)"
      ],
      "execution_count": null,
      "outputs": []
    },
    {
      "cell_type": "code",
      "metadata": {
        "pycharm": {
          "is_executing": true
        },
        "id": "xceCxXxXUFAw"
      },
      "source": [
        "def vector_assumtion_relation(eigen_vectors, vectors_assumtion):\n",
        "    vector_rel_list = []\n",
        "    for i in range(0, len(eigen_vectors)):\n",
        "        res = sym.Matrix(eigen_vectors[i]) @ sym.Matrix(vectors_assumtion)\n",
        "        tmp_list = []\n",
        "        for x in vectors_assumtion:\n",
        "            tmp_list.append(sym.solve(res, x))\n",
        "            \n",
        "        vector_rel_list.append((f\"eigen vector {i+1} relation\", tmp_list))\n",
        "        \n",
        "    return vector_rel_list"
      ],
      "execution_count": null,
      "outputs": []
    },
    {
      "cell_type": "code",
      "metadata": {
        "pycharm": {
          "is_executing": true
        },
        "id": "8ST71NaCUFAw"
      },
      "source": [
        "def get_eigen_values_vectors(matrix):\n",
        "    row, col = get_matrix_dim(matrix)\n",
        "    if row != col:\n",
        "        print(\"Not A Squared Matrix\")\n",
        "        return None\n",
        "    idntity_matrix = define_identity_matrix(row, col)\n",
        "    lambda_idntity_matrix = define_lambda_identity_matrix(idntity_matrix)\n",
        "    lambda_matrix = subtract_lambda_from_matrix(matrix, lambda_idntity_matrix)\n",
        "    determinant_func = sym.Matrix(lambda_matrix).det()\n",
        "    eigen_values = sym.solve(determinant_func, lambda_symbol)\n",
        "    eigen_vectors = get_eigen_vector(eigen_values, lambda_matrix, col)\n",
        "    vectors_x = vector_assumtion(eigen_vectors, row)\n",
        "    vectors_x = vector_assumtion_relation(eigen_vectors, vectors_x)\n",
        "    return eigen_values, np.array([np.array(v) for v in eigen_vectors]), vectors_x"
      ],
      "execution_count": null,
      "outputs": []
    },
    {
      "cell_type": "code",
      "metadata": {
        "pycharm": {
          "is_executing": true,
          "name": "#%%\n"
        },
        "id": "9HtqtjacUFAx",
        "outputId": "85363462-bf46-42f2-cfa8-617a37373553"
      },
      "source": [
        "matrix = np.array([[0, 1],\n",
        "                   [-2, -3]])\n",
        "\n",
        "eigen_values, eigen_vectors, vectors_x = get_eigen_values_vectors(matrix)\n",
        "print(\"Eigen Values: \", eigen_values)\n",
        "print(\"Eigen Vector: \", eigen_vectors)\n",
        "print(\"Eigen Vector Relations: \", vectors_x, sep = \"\\n\")"
      ],
      "execution_count": null,
      "outputs": [
        {
          "output_type": "stream",
          "text": [
            "Eigen Values:  [-2.00000000000000, -1.00000000000000]\n",
            "Eigen Vector:  [[[1 0.500000000000000]\n",
            "  [0 0]]\n",
            "\n",
            " [[1 1.00000000000000]\n",
            "  [0 0]]]\n",
            "Eigen Vector Relations: \n",
            "[('eigen vector 1 relation', [{x1: -0.5*x2}, {x2: -2.0*x1}]), ('eigen vector 2 relation', [{x1: -x2}, {x2: -x1}])]\n"
          ],
          "name": "stdout"
        }
      ]
    },
    {
      "cell_type": "markdown",
      "metadata": {
        "pycharm": {
          "name": "#%% md\n"
        },
        "id": "6mjLa8fFUFAy"
      },
      "source": [
        "### Q3"
      ]
    },
    {
      "cell_type": "code",
      "metadata": {
        "pycharm": {
          "is_executing": true
        },
        "id": "k6SPQT1_UFAz"
      },
      "source": [
        "def Get_PCA(data_matrix, n_pca):\n",
        "    \n",
        "    mean_matrix = np.mean(data_matrix, axis=0)\n",
        "    diff_matrix = (data_matrix - mean_matrix)\n",
        "\n",
        "    covariance_matrix = np.cov(diff_matrix.T)\n",
        "    values, vectors = np.linalg.eig(covariance_matrix)\n",
        "    sorted_index = np.argsort(values)[::-1]\n",
        "    \n",
        "    list_vec = []\n",
        "    list_val = []\n",
        "    for i in range(n_pca):\n",
        "        list_vec.append(vectors[:,sorted_index[i]])\n",
        "        list_val.append(values[sorted_index[i]])\n",
        "    pca_matrix = np.array(list_vec)\n",
        "    \n",
        "    print(\"Eigen Values: \", list_val, sep = \"\\n\")\n",
        "    print(\"PCA Matrix: \", pca_matrix, sep = \"\\n\")\n",
        "    pca_new_feat = pca_matrix.dot(diff_matrix.T)\n",
        "    return pca_new_feat.T"
      ],
      "execution_count": null,
      "outputs": []
    },
    {
      "cell_type": "code",
      "metadata": {
        "pycharm": {
          "is_executing": true
        },
        "id": "0HY4-_VjUFAz"
      },
      "source": [
        "data_matrix = np.array([[1,2,3,4], \n",
        "                        [5,5,6,7],\n",
        "                        [1,4,2,3],\n",
        "                        [5,3,2,1],\n",
        "                        [8,1,2,2]])\n",
        "\n",
        "n_pca = 2"
      ],
      "execution_count": null,
      "outputs": []
    },
    {
      "cell_type": "code",
      "metadata": {
        "pycharm": {
          "is_executing": true,
          "name": "#%%\n"
        },
        "id": "cufM-i_VUFA0",
        "outputId": "a5d6958d-6240-4197-c5f7-0a428860ca4f"
      },
      "source": [
        "print(\"PCA new features: \", Get_PCA(data_matrix, n_pca), sep = \"\\n\")"
      ],
      "execution_count": null,
      "outputs": [
        {
          "output_type": "stream",
          "text": [
            "Eigen Values: \n",
            "[10.606630504517529, 7.908086969903933]\n",
            "PCA Matrix: \n",
            "[[ 0.69478464 -0.34820806 -0.32341225 -0.53984254]\n",
            " [-0.69892736 -0.17035429 -0.47997101 -0.50210337]]\n",
            "PCA new features: \n",
            "[[-2.06005139  1.96587434]\n",
            " [-2.91530135 -4.2871211 ]\n",
            " [-1.89321273  2.60724014]\n",
            " [ 2.31381898  0.98609174]\n",
            " [ 4.55474649 -1.27208513]]\n"
          ],
          "name": "stdout"
        }
      ]
    },
    {
      "cell_type": "code",
      "metadata": {
        "pycharm": {
          "is_executing": true,
          "name": "#%%\n"
        },
        "id": "Ek6k9u1oUFA1",
        "outputId": "fe5a5e03-3acc-47fc-951f-666dfcb54fbd"
      },
      "source": [
        "from sklearn.decomposition import PCA\n",
        "\n",
        "pca = PCA(n_pca)\n",
        "\n",
        "pca.fit(data_matrix)\n",
        "\n",
        "print(\"pca components\", pca.components_, sep = \"\\n\")\n",
        "print(\"pca variance \", pca.explained_variance_, sep = \"\\n\")\n",
        "\n",
        "pca_new_fet = pca.transform(data_matrix)\n",
        "print(\"pca new features \", pca_new_fet, sep = \"\\n\")"
      ],
      "execution_count": null,
      "outputs": [
        {
          "output_type": "stream",
          "text": [
            "pca components\n",
            "[[ 0.69478464 -0.34820806 -0.32341225 -0.53984254]\n",
            " [ 0.69892736  0.17035429  0.47997101  0.50210337]]\n",
            "pca variance \n",
            "[10.6066305   7.90808697]\n",
            "pca new features \n",
            "[[-2.06005139 -1.96587434]\n",
            " [-2.91530135  4.2871211 ]\n",
            " [-1.89321273 -2.60724014]\n",
            " [ 2.31381898 -0.98609174]\n",
            " [ 4.55474649  1.27208513]]\n"
          ],
          "name": "stdout"
        }
      ]
    },
    {
      "cell_type": "markdown",
      "metadata": {
        "id": "Bal5t9X3UFA1"
      },
      "source": [
        "### Q4"
      ]
    },
    {
      "cell_type": "code",
      "metadata": {
        "pycharm": {
          "is_executing": true,
          "name": "#%%\n"
        },
        "id": "ocCpBJsrUFA2"
      },
      "source": [
        "from sklearn.preprocessing import StandardScaler\n",
        "from sklearn.decomposition import PCA"
      ],
      "execution_count": null,
      "outputs": []
    },
    {
      "cell_type": "code",
      "metadata": {
        "pycharm": {
          "is_executing": true,
          "name": "#%%\n"
        },
        "id": "q4eUFRXKUFA2"
      },
      "source": [
        "scaler = StandardScaler()\n",
        "data_matrix_sts = scaler.fit_transform(data_matrix)\n",
        "\n",
        "pca = PCA(n_pca)\n",
        "pca_new_fet_sts = pca.fit_transform(data_matrix_sts)"
      ],
      "execution_count": null,
      "outputs": []
    },
    {
      "cell_type": "code",
      "metadata": {
        "id": "-AMl1E3sUFA3",
        "outputId": "d453594f-fc05-46f2-fef9-7ff6e87a30e1"
      },
      "source": [
        "print(\"pca components \", pca.components_, sep = \"\\n\")\n",
        "print(\"pca variance \",pca.explained_variance_, sep = \"\\n\")\n",
        "print(\"pca new features \", pca_new_fet_sts, sep = \"\\n\")"
      ],
      "execution_count": null,
      "outputs": [
        {
          "output_type": "stream",
          "text": [
            "pca components \n",
            "[[-0.16195986  0.52404813  0.58589647  0.59654663]\n",
            " [-0.91705888  0.20692161 -0.3205394  -0.11593512]]\n",
            "pca variance \n",
            "[3.14474155 1.33161063]\n",
            "pca new features \n",
            "[[-1.56561741e-02  8.45205482e-01]\n",
            " [ 2.85829190e+00 -8.72549250e-01]\n",
            " [ 5.75566043e-02  1.40104719e+00]\n",
            " [-1.13385419e+00  2.66995807e-04]\n",
            " [-1.76633814e+00 -1.37397042e+00]]\n"
          ],
          "name": "stdout"
        }
      ]
    },
    {
      "cell_type": "code",
      "metadata": {
        "pycharm": {
          "is_executing": true,
          "name": "#%%\n"
        },
        "id": "hee3SO3FUFA3",
        "outputId": "50694136-7fb5-4e5c-fdc3-826c019e9e34"
      },
      "source": [
        "pca_new_fet_sts"
      ],
      "execution_count": null,
      "outputs": [
        {
          "output_type": "execute_result",
          "data": {
            "text/plain": [
              "array([[-1.56561741e-02,  8.45205482e-01],\n",
              "       [ 2.85829190e+00, -8.72549250e-01],\n",
              "       [ 5.75566043e-02,  1.40104719e+00],\n",
              "       [-1.13385419e+00,  2.66995807e-04],\n",
              "       [-1.76633814e+00, -1.37397042e+00]])"
            ]
          },
          "metadata": {
            "tags": []
          },
          "execution_count": 21
        }
      ]
    },
    {
      "cell_type": "code",
      "metadata": {
        "pycharm": {
          "is_executing": true
        },
        "id": "XNqaLnvKUFA4"
      },
      "source": [
        ""
      ],
      "execution_count": null,
      "outputs": []
    },
    {
      "cell_type": "code",
      "metadata": {
        "id": "VVrMa74FUFA4"
      },
      "source": [
        ""
      ],
      "execution_count": null,
      "outputs": []
    }
  ]
}